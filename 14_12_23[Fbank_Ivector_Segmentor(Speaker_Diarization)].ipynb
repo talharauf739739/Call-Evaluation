{
  "nbformat": 4,
  "nbformat_minor": 0,
  "metadata": {
    "colab": {
      "provenance": []
    },
    "kernelspec": {
      "name": "python3",
      "display_name": "Python 3"
    },
    "language_info": {
      "name": "python"
    }
  },
  "cells": [
    {
      "cell_type": "markdown",
      "source": [
        "**Fbank Speaker Diarization**"
      ],
      "metadata": {
        "id": "NlVa1QnoSY_4"
      }
    },
    {
      "cell_type": "code",
      "source": [
        "import librosa\n",
        "import numpy as np\n",
        "\n",
        "def extract_fbank(audio_file, sample_rate=16000, n_fft=400, hop_length=160, n_mels=40):\n",
        "    # Load audio file\n",
        "    y, sr = librosa.load(audio_file, sr=sample_rate)\n",
        "\n",
        "    # Extract Fbank features\n",
        "    fbank = librosa.feature.melspectrogram(y=y, sr=sr, n_fft=n_fft, hop_length=hop_length, n_mels=n_mels)\n",
        "    fbank = librosa.power_to_db(fbank, ref=np.max)  # Convert to dB scale\n",
        "\n",
        "    return fbank\n",
        "\n",
        "# Replace 'your_audio_file.wav' with the path to your audio file\n",
        "audio_path = '/content/Voice_Data_1.wav'\n",
        "fbank_features = extract_fbank(audio_path)\n",
        "\n",
        "# Use fbank_features for further processing or analysis\n",
        "print(\"Fbank features shape:\", fbank_features.shape)\n"
      ],
      "metadata": {
        "colab": {
          "base_uri": "https://localhost:8080/"
        },
        "id": "tSEK4PMMSiVM",
        "outputId": "d7509bf4-64a1-47cc-f8bd-06602f25ef88"
      },
      "execution_count": null,
      "outputs": [
        {
          "output_type": "stream",
          "name": "stdout",
          "text": [
            "Fbank features shape: (40, 36685)\n"
          ]
        }
      ]
    },
    {
      "cell_type": "markdown",
      "source": [
        "**Ivector Speaker Diarization**"
      ],
      "metadata": {
        "id": "chMCGeBMSkcB"
      }
    },
    {
      "cell_type": "code",
      "source": [
        "!pip install pyAudioAnalysis\n",
        "!pip install eyed3\n",
        "!pip install path.py\n",
        "!pip install shutils\n",
        "!pip install pydub\n",
        "!pip install ubm\n",
        "from sklearn.mixture import GaussianMixture\n",
        "# Define the train_ubm function to train the Universal Background Model\n",
        "def train_ubm(features, n_components=40, max_iterations=100):\n",
        "    gmm = GaussianMixture(n_components=n_components, max_iter=max_iterations)\n",
        "    gmm.fit(features)\n",
        "    return gmm\n",
        "\n",
        "from pyAudioAnalysis import audioTrainTest\n",
        "\n",
        "\n",
        "\n",
        "import pyAudioAnalysis\n",
        "\n",
        "from pyAudioAnalysis import audioTrainTest\n",
        "\n",
        "# Function to compute i-Vector from Fbank features\n",
        "def compute_ivector_from_fbank(fbank_features, ubm):\n",
        "    ivector = audioTrainTest.extract_ivectors_fbank(fbank_features, ubm)\n",
        "    return ivector\n",
        "\n",
        "# Replace 'your_audio_file.wav' with the path to your audio file\n",
        "#audio_path = 'your_audio_file.wav'\n",
        "\n",
        "# Assuming you have already extracted Fbank features (fbank_features) from the audio file\n",
        "\n",
        "# Step 2: Train Universal Background Model (UBM)\n",
        "\n",
        "\n",
        "\n",
        "ubm = train_ubm(fbank_features)  # You can reuse the previously defined function to train UBM\n",
        "\n",
        "# Step 3: Compute i-Vector from Fbank features\n",
        "ivector_fbank = compute_ivector_from_fbank(fbank_features, ubm)\n",
        "\n",
        "# Use ivector_fbank for further processing or speaker diarization\n",
        "print(\"i-Vector (from Fbank) shape:\", ivector_fbank.shape)\n"
      ],
      "metadata": {
        "colab": {
          "base_uri": "https://localhost:8080/",
          "height": 1000
        },
        "id": "eadkpmlgSpc9",
        "outputId": "7152c5d7-57c9-4a64-8cb7-31a1557b476f"
      },
      "execution_count": null,
      "outputs": [
        {
          "output_type": "stream",
          "name": "stdout",
          "text": [
            "Collecting pyAudioAnalysis\n",
            "  Downloading pyAudioAnalysis-0.3.14.tar.gz (41.3 MB)\n",
            "\u001b[2K     \u001b[90m━━━━━━━━━━━━━━━━━━━━━━━━━━━━━━━━━━━━━━━━\u001b[0m \u001b[32m41.3/41.3 MB\u001b[0m \u001b[31m22.8 MB/s\u001b[0m eta \u001b[36m0:00:00\u001b[0m\n",
            "\u001b[?25h  Preparing metadata (setup.py) ... \u001b[?25l\u001b[?25hdone\n",
            "Building wheels for collected packages: pyAudioAnalysis\n",
            "  Building wheel for pyAudioAnalysis (setup.py) ... \u001b[?25l\u001b[?25hdone\n",
            "  Created wheel for pyAudioAnalysis: filename=pyAudioAnalysis-0.3.14-py3-none-any.whl size=41264371 sha256=706423511a658e489096f2702f01797985dea9a6c4c4a368f79dd6f79ba6dce8\n",
            "  Stored in directory: /root/.cache/pip/wheels/a7/54/73/fa830689c2440d2c81ff175c60e374930ad1607a8881e0f43f\n",
            "Successfully built pyAudioAnalysis\n",
            "Installing collected packages: pyAudioAnalysis\n",
            "Successfully installed pyAudioAnalysis-0.3.14\n",
            "Collecting eyed3\n",
            "  Downloading eyed3-0.9.7-py3-none-any.whl (246 kB)\n",
            "\u001b[2K     \u001b[90m━━━━━━━━━━━━━━━━━━━━━━━━━━━━━━━━━━━━━━━━\u001b[0m \u001b[32m246.1/246.1 kB\u001b[0m \u001b[31m911.0 kB/s\u001b[0m eta \u001b[36m0:00:00\u001b[0m\n",
            "\u001b[?25hCollecting coverage[toml]<6.0.0,>=5.3.1 (from eyed3)\n",
            "  Downloading coverage-5.5-cp310-cp310-manylinux1_x86_64.whl (238 kB)\n",
            "\u001b[2K     \u001b[90m━━━━━━━━━━━━━━━━━━━━━━━━━━━━━━━━━━━━━━━━\u001b[0m \u001b[32m239.0/239.0 kB\u001b[0m \u001b[31m6.9 MB/s\u001b[0m eta \u001b[36m0:00:00\u001b[0m\n",
            "\u001b[?25hCollecting deprecation<3.0.0,>=2.1.0 (from eyed3)\n",
            "  Downloading deprecation-2.1.0-py2.py3-none-any.whl (11 kB)\n",
            "Collecting filetype<2.0.0,>=1.0.7 (from eyed3)\n",
            "  Downloading filetype-1.2.0-py2.py3-none-any.whl (19 kB)\n",
            "Requirement already satisfied: toml in /usr/local/lib/python3.10/dist-packages (from coverage[toml]<6.0.0,>=5.3.1->eyed3) (0.10.2)\n",
            "Requirement already satisfied: packaging in /usr/local/lib/python3.10/dist-packages (from deprecation<3.0.0,>=2.1.0->eyed3) (23.2)\n",
            "Installing collected packages: filetype, deprecation, coverage, eyed3\n",
            "Successfully installed coverage-5.5 deprecation-2.1.0 eyed3-0.9.7 filetype-1.2.0\n",
            "Collecting path.py\n",
            "  Downloading path.py-12.5.0-py3-none-any.whl (2.3 kB)\n",
            "Collecting path (from path.py)\n",
            "  Downloading path-16.9.0-py3-none-any.whl (24 kB)\n",
            "Installing collected packages: path, path.py\n",
            "Successfully installed path-16.9.0 path.py-12.5.0\n",
            "Collecting shutils\n",
            "  Downloading shutils-0.1.0.tar.gz (2.3 kB)\n",
            "  Preparing metadata (setup.py) ... \u001b[?25l\u001b[?25hdone\n",
            "Collecting configparser (from shutils)\n",
            "  Downloading configparser-6.0.0-py3-none-any.whl (19 kB)\n",
            "Collecting pymysql (from shutils)\n",
            "  Downloading PyMySQL-1.1.0-py3-none-any.whl (44 kB)\n",
            "\u001b[2K     \u001b[90m━━━━━━━━━━━━━━━━━━━━━━━━━━━━━━━━━━━━━━━━\u001b[0m \u001b[32m44.8/44.8 kB\u001b[0m \u001b[31m2.1 MB/s\u001b[0m eta \u001b[36m0:00:00\u001b[0m\n",
            "\u001b[?25hBuilding wheels for collected packages: shutils\n",
            "  Building wheel for shutils (setup.py) ... \u001b[?25l\u001b[?25hdone\n",
            "  Created wheel for shutils: filename=shutils-0.1.0-py3-none-any.whl size=3274 sha256=956a51daf1e19f80f6c8147df35ce5231e0268c1bcea63606d5c7bed9c86e618\n",
            "  Stored in directory: /root/.cache/pip/wheels/62/63/04/81e549bdb44792d8b62938cffc3bd00a34addabe1da3693db8\n",
            "Successfully built shutils\n",
            "Installing collected packages: pymysql, configparser, shutils\n",
            "Successfully installed configparser-6.0.0 pymysql-1.1.0 shutils-0.1.0\n"
          ]
        },
        {
          "output_type": "display_data",
          "data": {
            "application/vnd.colab-display-data+json": {
              "pip_warning": {
                "packages": [
                  "configparser"
                ]
              }
            }
          },
          "metadata": {}
        },
        {
          "output_type": "stream",
          "name": "stdout",
          "text": [
            "Collecting pydub\n",
            "  Downloading pydub-0.25.1-py2.py3-none-any.whl (32 kB)\n",
            "Installing collected packages: pydub\n",
            "Successfully installed pydub-0.25.1\n",
            "Collecting ubm\n",
            "  Downloading ubm-1.0.4.tar.gz (30 kB)\n",
            "  Preparing metadata (setup.py) ... \u001b[?25l\u001b[?25hdone\n",
            "Requirement already satisfied: numpy in /usr/local/lib/python3.10/dist-packages (from ubm) (1.23.5)\n",
            "Requirement already satisfied: scipy in /usr/local/lib/python3.10/dist-packages (from ubm) (1.11.4)\n",
            "Requirement already satisfied: pandas in /usr/local/lib/python3.10/dist-packages (from ubm) (1.5.3)\n",
            "Requirement already satisfied: matplotlib in /usr/local/lib/python3.10/dist-packages (from ubm) (3.7.1)\n",
            "Requirement already satisfied: tables in /usr/local/lib/python3.10/dist-packages (from ubm) (3.8.0)\n",
            "Requirement already satisfied: contourpy>=1.0.1 in /usr/local/lib/python3.10/dist-packages (from matplotlib->ubm) (1.2.0)\n",
            "Requirement already satisfied: cycler>=0.10 in /usr/local/lib/python3.10/dist-packages (from matplotlib->ubm) (0.12.1)\n",
            "Requirement already satisfied: fonttools>=4.22.0 in /usr/local/lib/python3.10/dist-packages (from matplotlib->ubm) (4.46.0)\n",
            "Requirement already satisfied: kiwisolver>=1.0.1 in /usr/local/lib/python3.10/dist-packages (from matplotlib->ubm) (1.4.5)\n",
            "Requirement already satisfied: packaging>=20.0 in /usr/local/lib/python3.10/dist-packages (from matplotlib->ubm) (23.2)\n",
            "Requirement already satisfied: pillow>=6.2.0 in /usr/local/lib/python3.10/dist-packages (from matplotlib->ubm) (9.4.0)\n",
            "Requirement already satisfied: pyparsing>=2.3.1 in /usr/local/lib/python3.10/dist-packages (from matplotlib->ubm) (3.1.1)\n",
            "Requirement already satisfied: python-dateutil>=2.7 in /usr/local/lib/python3.10/dist-packages (from matplotlib->ubm) (2.8.2)\n",
            "Requirement already satisfied: pytz>=2020.1 in /usr/local/lib/python3.10/dist-packages (from pandas->ubm) (2023.3.post1)\n",
            "Requirement already satisfied: cython>=0.29.21 in /usr/local/lib/python3.10/dist-packages (from tables->ubm) (3.0.6)\n",
            "Requirement already satisfied: numexpr>=2.6.2 in /usr/local/lib/python3.10/dist-packages (from tables->ubm) (2.8.8)\n",
            "Requirement already satisfied: blosc2~=2.0.0 in /usr/local/lib/python3.10/dist-packages (from tables->ubm) (2.0.0)\n",
            "Requirement already satisfied: py-cpuinfo in /usr/local/lib/python3.10/dist-packages (from tables->ubm) (9.0.0)\n",
            "Requirement already satisfied: msgpack in /usr/local/lib/python3.10/dist-packages (from blosc2~=2.0.0->tables->ubm) (1.0.7)\n",
            "Requirement already satisfied: six>=1.5 in /usr/local/lib/python3.10/dist-packages (from python-dateutil>=2.7->matplotlib->ubm) (1.16.0)\n",
            "Building wheels for collected packages: ubm\n",
            "  Building wheel for ubm (setup.py) ... \u001b[?25l\u001b[?25hdone\n",
            "  Created wheel for ubm: filename=ubm-1.0.4-py3-none-any.whl size=12644 sha256=892670a27ffb855911f63b1e406a22e699fbe1e3eab02628cc97bc7b5432c731\n",
            "  Stored in directory: /root/.cache/pip/wheels/1e/16/57/747a3479b9c43716232daaaf2acbed1087140442d07b9f88f9\n",
            "Successfully built ubm\n",
            "Installing collected packages: ubm\n",
            "Successfully installed ubm-1.0.4\n"
          ]
        },
        {
          "output_type": "stream",
          "name": "stderr",
          "text": [
            "/usr/local/lib/python3.10/dist-packages/sklearn/mixture/_base.py:119: ConvergenceWarning: Number of distinct clusters (34) found smaller than n_clusters (40). Possibly due to duplicate points in X.\n",
            "  .fit(X)\n"
          ]
        }
      ]
    },
    {
      "cell_type": "markdown",
      "source": [
        "**Segmentor Speaker Diarization**"
      ],
      "metadata": {
        "id": "TJyl0oxgStBM"
      }
    },
    {
      "cell_type": "code",
      "source": [
        "from pyAudioAnalysis import audioSegmentation, audioTrainTest\n",
        "\n",
        "\n",
        "segmentation = audioSegmentation.speaker_diarization(audio_path, method=\"hmm\", num_of_clusters=2, lda_dim=0, iVector=ivector_fbank)\n",
        "\n",
        "# Display the segments and their corresponding speakers\n",
        "for seg in segmentation:\n",
        "    print(\"Speaker:\", seg[2], \", Start:\", seg[0], \", End:\", seg[1])"
      ],
      "metadata": {
        "id": "V5zeyOclSxwU"
      },
      "execution_count": null,
      "outputs": []
    }
  ]
}