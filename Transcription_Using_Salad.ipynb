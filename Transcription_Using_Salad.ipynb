{
  "nbformat": 4,
  "nbformat_minor": 0,
  "metadata": {
    "colab": {
      "provenance": []
    },
    "kernelspec": {
      "name": "python3",
      "display_name": "Python 3"
    },
    "language_info": {
      "name": "python"
    }
  },
  "cells": [
    {
      "cell_type": "code",
      "execution_count": null,
      "metadata": {
        "id": "ThVAIa3EkbPt"
      },
      "outputs": [],
      "source": [
        "curl -X POST https://api.salad.com/api/public/organizations/{my-organization}/inference-endpoints/transcribe/jobs \\\n",
        "   -H \"Salad-Api-Key: {salad_cloud_user_UGkptzteqPFhjg2t8CDkpMsrf8XlVbRr4Fh24uEaUW80OShnH}\" \\\n",
        "   -H \"Content-Type: application/json\" \\\n",
        "   -d '{\n",
        "      \"input\": {\n",
        "         \"url\": \"https://example.com/path/to/file.mp3\",\n",
        "         \"srt\": true,\n",
        "         \"srt_translation\": \"spanish, portuguese, french\"\n",
        "      },\n",
        "      \"metadata\": {\n",
        "        \"my-job-id\": 1234\n",
        "      }\n",
        "\n",
        "\n"
      ]
    }
  ]
}